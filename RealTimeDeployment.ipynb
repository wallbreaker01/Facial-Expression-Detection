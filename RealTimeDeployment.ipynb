{
 "cells": [
  {
   "cell_type": "markdown",
   "id": "7e2ce19a",
   "metadata": {},
   "source": [
    "<!-- this is for direct deployment. No frontend -->"
   ]
  },
  {
   "cell_type": "code",
   "execution_count": 2,
   "id": "2c6e589e",
   "metadata": {},
   "outputs": [],
   "source": [
    "import cv2\n",
    "from keras.models import model_from_json\n",
    "import numpy as np"
   ]
  },
  {
   "cell_type": "code",
   "execution_count": 3,
   "id": "d99512dd",
   "metadata": {},
   "outputs": [],
   "source": [
    "json_file = open(\"emotiondetector.json\", \"r\")\n",
    "model_json = json_file.read()\n",
    "json_file.close()\n",
    "model = model_from_json(model_json)"
   ]
  },
  {
   "cell_type": "code",
   "execution_count": 4,
   "id": "bc0cb3e9",
   "metadata": {},
   "outputs": [],
   "source": [
    "model.load_weights(\"emotiondetector.h5\")\n",
    "haar_file=cv2.data.haarcascades + 'haarcascade_frontalface_default.xml'\n",
    "face_cascade=cv2.CascadeClassifier(haar_file)"
   ]
  },
  {
   "cell_type": "code",
   "execution_count": 5,
   "id": "e59915e0",
   "metadata": {},
   "outputs": [],
   "source": [
    "def extract_features(image):\n",
    "    feature = np.array(image)\n",
    "    feature = feature.reshape(1,48,48,1)\n",
    "    return feature/255.0"
   ]
  },
  {
   "cell_type": "code",
   "execution_count": 7,
   "id": "3c28e018",
   "metadata": {},
   "outputs": [
    {
     "ename": "KeyboardInterrupt",
     "evalue": "",
     "output_type": "error",
     "traceback": [
      "\u001b[31m---------------------------------------------------------------------------\u001b[39m",
      "\u001b[31mKeyboardInterrupt\u001b[39m                         Traceback (most recent call last)",
      "\u001b[36mCell\u001b[39m\u001b[36m \u001b[39m\u001b[32mIn[7]\u001b[39m\u001b[32m, line 17\u001b[39m\n\u001b[32m     14\u001b[39m     \u001b[38;5;28;01mbreak\u001b[39;00m\n\u001b[32m     16\u001b[39m gray = cv2.cvtColor(im, cv2.COLOR_BGR2GRAY)\n\u001b[32m---> \u001b[39m\u001b[32m17\u001b[39m faces = \u001b[43mface_cascade\u001b[49m\u001b[43m.\u001b[49m\u001b[43mdetectMultiScale\u001b[49m\u001b[43m(\u001b[49m\u001b[43mgray\u001b[49m\u001b[43m,\u001b[49m\u001b[43m \u001b[49m\u001b[32;43m1.3\u001b[39;49m\u001b[43m,\u001b[49m\u001b[43m \u001b[49m\u001b[32;43m5\u001b[39;49m\u001b[43m)\u001b[49m\n\u001b[32m     19\u001b[39m \u001b[38;5;28;01mfor\u001b[39;00m (p, q, r, s) \u001b[38;5;129;01min\u001b[39;00m faces:\n\u001b[32m     20\u001b[39m     \u001b[38;5;66;03m# Extract face region\u001b[39;00m\n\u001b[32m     21\u001b[39m     face_roi = gray[q:q+s, p:p+r]\n",
      "\u001b[31mKeyboardInterrupt\u001b[39m: "
     ]
    }
   ],
   "source": [
    "webcam = cv2.VideoCapture(0)\n",
    "labels = {0: 'angry', 1: 'disgust', 2: 'fear', 3: 'happy', 4: 'neutral', 5: 'sad', 6: 'surprise'}\n",
    "\n",
    "# Check if webcam is opened successfully\n",
    "if not webcam.isOpened():\n",
    "    print(\"Error: Could not open webcam\")\n",
    "    exit()\n",
    "\n",
    "try:\n",
    "    while True:\n",
    "        ret, im = webcam.read()\n",
    "        if not ret:\n",
    "            print(\"Error: Failed to capture frame\")\n",
    "            break\n",
    "            \n",
    "        gray = cv2.cvtColor(im, cv2.COLOR_BGR2GRAY)\n",
    "        faces = face_cascade.detectMultiScale(gray, 1.3, 5)\n",
    "        \n",
    "        for (p, q, r, s) in faces:\n",
    "            # Extract face region\n",
    "            face_roi = gray[q:q+s, p:p+r]\n",
    "            \n",
    "            # Draw rectangle around face\n",
    "            cv2.rectangle(im, (p, q), (p+r, q+s), (255, 0, 0), 2)\n",
    "            \n",
    "            # Resize and predict emotion\n",
    "            face_resized = cv2.resize(face_roi, (48, 48))\n",
    "            img_features = extract_features(face_resized)\n",
    "            pred = model.predict(img_features, verbose=0)\n",
    "            prediction_label = labels[pred.argmax()]\n",
    "            \n",
    "            # Add text with better positioning and styling\n",
    "            cv2.putText(im, prediction_label, (p, q-10), \n",
    "                       cv2.FONT_HERSHEY_SIMPLEX, 0.9, (0, 255, 0), 2)\n",
    "        \n",
    "        cv2.imshow(\"Emotion Detection\", im)\n",
    "        \n",
    "        # Press 'q' to quit or ESC key\n",
    "        key = cv2.waitKey(1) & 0xFF\n",
    "        if key == ord('q') or key == 27:\n",
    "            break\n",
    "\n",
    "except Exception as e:\n",
    "    print(f\"An error occurred: {e}\")\n",
    "\n",
    "finally:\n",
    "    # Clean up resources\n",
    "    webcam.release()\n",
    "    cv2.destroyAllWindows()"
   ]
  }
 ],
 "metadata": {
  "kernelspec": {
   "display_name": "Python 3",
   "language": "python",
   "name": "python3"
  },
  "language_info": {
   "codemirror_mode": {
    "name": "ipython",
    "version": 3
   },
   "file_extension": ".py",
   "mimetype": "text/x-python",
   "name": "python",
   "nbconvert_exporter": "python",
   "pygments_lexer": "ipython3",
   "version": "3.11.1"
  }
 },
 "nbformat": 4,
 "nbformat_minor": 5
}
